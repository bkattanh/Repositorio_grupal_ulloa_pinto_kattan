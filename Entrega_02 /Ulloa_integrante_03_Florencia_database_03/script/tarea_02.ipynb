{
 "cells": [
  {
   "cell_type": "markdown",
   "id": "ae736c15",
   "metadata": {},
   "source": [
    "\n",
    "# Tarea 02 — Variables, tipos de datos y condicionales (Python)\n",
    "\n",
    "**Fecha de entrega:** viernes 2 de octubre de 2025 — hasta las 09:59 (America/Santiago)  \n",
    "**Formato:** `.ipynb` (preferido) o `.py`  \n",
    "**Autor:** *(completa con tu nombre y email)*\n",
    "\n",
    "Este cuaderno contiene **un script por problema** (1 al 4), con **comentarios** y, cuando corresponde, **pseudocódigo**.\n"
   ]
  },
  {
   "cell_type": "markdown",
   "id": "19681940",
   "metadata": {},
   "source": [
    "\n",
    "## Problema 1\n",
    "**Enunciado.** Hacer un programa que imprima los números del **-100 al 200** (ambos inclusive).\n",
    "\n",
    "**Idea:** usar `range(inicio, fin_exclusivo)` y un ciclo `for`. Como `range` excluye el tope superior, usamos `201`.\n"
   ]
  },
  {
   "cell_type": "code",
   "execution_count": null,
   "id": "322ac4d0",
   "metadata": {},
   "outputs": [],
   "source": [
    "\n",
    "# Problema 1 — imprimir del -100 al 200\n",
    "# Sin librerías externas; solo Python estándar.\n",
    "\n",
    "for numero in range(-100, 201):  # 201 porque el tope es exclusivo\n",
    "    print(numero)\n"
   ]
  },
  {
   "cell_type": "markdown",
   "id": "512ac9af",
   "metadata": {},
   "source": [
    "\n",
    "## Problema 2\n",
    "**Enunciado.** Imprimir los números del **-100 al 200** que sean **divisibles por 6** (resto 0).\n",
    "\n",
    "**Hint:** operador módulo `%`. Por ejemplo, `18 % 6 == 0`.\n",
    "\n",
    "**Idea:** recorremos el mismo rango y filtramos con `if numero % 6 == 0`.\n"
   ]
  },
  {
   "cell_type": "code",
   "execution_count": null,
   "id": "b9100d02",
   "metadata": {},
   "outputs": [],
   "source": [
    "\n",
    "# Problema 2 — imprimir del -100 al 200 solo los divisibles por 6\n",
    "for numero in range(-100, 201):\n",
    "    if numero % 6 == 0:   # resto 0 ⇢ divisible exacto\n",
    "        print(numero)\n"
   ]
  },
  {
   "cell_type": "markdown",
   "id": "dddf3c29",
   "metadata": {},
   "source": [
    "\n",
    "## Problema 3\n",
    "**Pseudocódigo y programa:** *Sumador y comparador de dos números*\n",
    "\n",
    "**Pseudocódigo (clarificado para límites 200 y 250):**\n"
   ]
  },
  {
   "cell_type": "markdown",
   "id": "1c6c6908",
   "metadata": {},
   "source": [
    "\n",
    "```\n",
    "Variables: numero1, numero2, suma, resultado (texto)\n",
    "\n",
    "Inicio\n",
    "  Leer numero1 y numero2\n",
    "  suma = numero1 + numero2\n",
    "\n",
    "  Si (suma < 200) entonces\n",
    "      resultado = \"menor a 200\"\n",
    "  Sino si (suma > 200 y suma < 250) entonces\n",
    "      resultado = \"mayor a 200 y menor a 250\"\n",
    "  Sino si (suma > 250) entonces\n",
    "      resultado = \"mayor a 250\"\n",
    "  Sino\n",
    "      # Aquí caen los casos de igualdad exacta (200 o 250)\n",
    "      Si (suma == 200) entonces\n",
    "          resultado = \"igual a 200\"\n",
    "      Sino\n",
    "          resultado = \"igual a 250\"\n",
    "  Fin si\n",
    "\n",
    "  Imprimir resultado\n",
    "Fin\n",
    "```\n",
    "> **Nota sobre límites:** El enunciado no especifica qué hacer cuando la suma es exactamente **200** o **250**. Para ser explícitos (y evitar ambigüedad), los tratamos como casos especiales de igualdad.\n"
   ]
  },
  {
   "cell_type": "code",
   "execution_count": null,
   "id": "d5c70a51",
   "metadata": {},
   "outputs": [],
   "source": [
    "\n",
    "# Problema 3 — sumador y comparador\n",
    "# Definimos una función para poder reutilizar la lógica y además mostrar ejemplos.\n",
    "\n",
    "def evaluar_suma(numero1, numero2):\n",
    "    \"\"\"\n",
    "    Suma dos números y devuelve un texto según la regla del enunciado:\n",
    "    - \"menor a 200\"               si suma < 200\n",
    "    - \"mayor a 200 y menor a 250\" si 200 < suma < 250\n",
    "    - \"mayor a 250\"               si suma > 250\n",
    "    - Igualdades explícitas: \"igual a 200\" o \"igual a 250\"\n",
    "    \"\"\"\n",
    "    suma = numero1 + numero2\n",
    "\n",
    "    if suma < 200:\n",
    "        return \"menor a 200\"\n",
    "    elif 200 < suma < 250:\n",
    "        return \"mayor a 200 y menor a 250\"\n",
    "    elif suma > 250:\n",
    "        return \"mayor a 250\"\n",
    "    else:\n",
    "        # Casos de igualdad exacta\n",
    "        if suma == 200:\n",
    "            return \"igual a 200\"\n",
    "        else:\n",
    "            return \"igual a 250\"\n",
    "\n",
    "# --- Ejemplos de prueba (puedes cambiarlos) ---\n",
    "ejemplos = [(150, 20), (120, 80), (150, 60), (200, 50), (100, 100), (125, 125)]\n",
    "for a, b in ejemplos:\n",
    "    print(f\"{a} + {b} = {a+b} → {evaluar_suma(a, b)}\")\n"
   ]
  },
  {
   "cell_type": "markdown",
   "id": "644e199d",
   "metadata": {},
   "source": [
    "\n",
    "## Problema 4\n",
    "**Pseudocódigo y programa:** *Calculador condicional de perfil (edad y gusto musical)*\n",
    "\n",
    "**Pseudocódigo sugerido:**\n"
   ]
  },
  {
   "cell_type": "markdown",
   "id": "af007d53",
   "metadata": {},
   "source": [
    "\n",
    "```\n",
    "Variables: edad (entero), gusta_musica_urbana (booleano)\n",
    "Inicio\n",
    "  Leer edad y gusta_musica_urbana\n",
    "  Si (edad >= 18 y gusta_musica_urbana == True) entonces\n",
    "      resultado = \"Eres mayor de edad y te gusta la música urbana\"\n",
    "  Si no\n",
    "      resultado = \"No eres mayor de edad o no te gusta la música urbana\"\n",
    "  Fin si\n",
    "  Imprimir resultado\n",
    "Fin\n",
    "```\n",
    "> Usamos `>= 18` para considerar como **mayor de edad** desde los 18 años inclusive.\n"
   ]
  },
  {
   "cell_type": "code",
   "execution_count": null,
   "id": "edb84c82",
   "metadata": {},
   "outputs": [],
   "source": [
    "\n",
    "# Problema 4 — función con condicionales\n",
    "def evaluar_usuario(edad, gusta_musica_urbana):\n",
    "    \"\"\"\n",
    "    Devuelve un texto según edad (>=18) y preferencia musical (booleano).\n",
    "    \"\"\"\n",
    "    if (edad >= 18) and (gusta_musica_urbana is True):\n",
    "        return \"Eres mayor de edad y te gusta la música urbana\"\n",
    "    else:\n",
    "        return \"No eres mayor de edad o no te gusta la música urbana\"\n",
    "\n",
    "# --- Ejemplos de prueba ---\n",
    "pruebas = [\n",
    "    (17, True),\n",
    "    (18, True),\n",
    "    (22, False),\n",
    "    (16, False),\n",
    "]\n",
    "for edad, gusto in pruebas:\n",
    "    print(f\"edad={edad}, gusta_musica_urbana={gusto} → {evaluar_usuario(edad, gusto)}\")\n"
   ]
  },
  {
   "cell_type": "markdown",
   "id": "1e185a25",
   "metadata": {},
   "source": [
    "\n",
    "---\n",
    "\n",
    "### Consejos de entrega\n",
    "- Verifica que este `.ipynb` **se renderiza bien en GitHub**.\n",
    "- Si prefieres, exporta también un `.py` y súbelo junto con el notebook.\n",
    "- Agrega **comentarios** lineales (como en los bloques de código de arriba) explicando tus decisiones.\n",
    "- Si trabajas con inputs interactivos (`input()`), recuerda probar los casos de ejemplo.\n",
    "\n",
    "¡Éxito! 💪\n"
   ]
  }
 ],
 "metadata": {},
 "nbformat": 4,
 "nbformat_minor": 5
}
