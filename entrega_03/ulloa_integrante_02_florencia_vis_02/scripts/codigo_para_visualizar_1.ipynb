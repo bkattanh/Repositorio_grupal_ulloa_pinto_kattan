import pandas as pd
import altair as alt

# Cargar la base limpia
df = pd.read_csv("Florencia_database_limpia.csv")

# Filtrar por prueba y sexo
df_800 = df[(df["prueba"].str.contains("800")) & (df["sexo"] == "Hombre") & (df["valido"] == 1)]

# Agrupar por año y competencia
promedios = df_800.groupby(["anio", "competencia"])["resultado"].mean().reset_index()

# Calcular brecha (promedio escolar - adulto)
pivot = promedios.pivot(index="anio", columns="competencia", values="resultado").reset_index()
pivot["brecha_seg"] = pivot["Escolar"] - pivot["Adulto"]
pivot["brecha_%"] = (pivot["brecha_seg"] / pivot["Adulto"]) * 100

# --- Visualización Altair ---
base = alt.Chart(promedios).mark_line(point=True).encode(
    x=alt.X("anio:O", title="Año"),
    y=alt.Y("resultado:Q", title="Tiempo promedio (segundos)"),
    color=alt.Color("competencia:N", title="Competencia"),
    tooltip=["anio", "competencia", "resultado"]
).properties(title="Brecha de rendimiento entre atletas escolares y adultos – 800m masculinos")

brecha = alt.Chart(pivot).mark_line(strokeDash=[5,5], color="gray").encode(
    x="anio:O",
    y="brecha_%:Q",
    tooltip=["anio", "brecha_%"]
).properties(title="Brecha porcentual entre promedios escolares y adultos")

final_chart = alt.vconcat(base, brecha).resolve_scale(y='independent')

# Exportar
final_chart.save("vis_01.html")
final_chart.save("vis_01.jpg", scale_factor=2)
