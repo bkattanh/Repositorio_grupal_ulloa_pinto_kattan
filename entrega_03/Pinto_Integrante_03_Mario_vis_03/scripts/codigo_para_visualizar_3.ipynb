{
  "nbformat": 4,
  "nbformat_minor": 0,
  "metadata": {
    "colab": {
      "provenance": []
    },
    "kernelspec": {
      "name": "python3",
      "display_name": "Python 3"
    },
    "language_info": {
      "name": "python"
    }
  },
  "cells": [
    {
      "cell_type": "code",
      "source": [],
      "metadata": {
        "id": "VewVn_fg4dVS"
      },
      "execution_count": null,
      "outputs": []
    },
    {
      "cell_type": "code",
      "source": [
        "import pandas as pd\n",
        "import altair as alt\n",
        "\n",
        "df = pd.read_csv(\"/content/drive/MyDrive/800metros completo.csv\", sep=\";\")\n",
        "\n",
        "df[\"Marca\"] = df[\"Marca\"].str.replace(\",\", \".\").astype(float)\n",
        "\n",
        "chart = (\n",
        "    alt.Chart(df)\n",
        "    .mark_bar()\n",
        "    .encode(\n",
        "        x=alt.X(\"Año:O\", title=\"Año\"),\n",
        "        y=alt.Y(\"average(Marca):Q\", title=\"Marca promedio (segundos)\"),\n",
        "        color=\"Categoría:N\",\n",
        "        column=\"Categoría:N\",\n",
        "        tooltip=[\"Año\", \"Categoría\", \"average(Marca)\"]\n",
        "    )\n",
        "    .properties(title=\"Promedio de marcas en 800 metros planos por año y categoría\")\n",
        ")\n",
        "\n",
        "chart.show()\n"
      ],
      "metadata": {
        "colab": {
          "base_uri": "https://localhost:8080/",
          "height": 446
        },
        "id": "qT_MlDm7CFFH",
        "outputId": "6795ce8f-5dba-4af2-c510-805b96d64aec"
      },
      "execution_count": 1,
      "outputs": [
        {
          "output_type": "display_data",
          "data": {
            "text/html": [
              "\n",
              "<style>\n",
              "  #altair-viz-84074cc614054bb4b16952923759b15a.vega-embed {\n",
              "    width: 100%;\n",
              "    display: flex;\n",
              "  }\n",
              "\n",
              "  #altair-viz-84074cc614054bb4b16952923759b15a.vega-embed details,\n",
              "  #altair-viz-84074cc614054bb4b16952923759b15a.vega-embed details summary {\n",
              "    position: relative;\n",
              "  }\n",
              "</style>\n",
              "<div id=\"altair-viz-84074cc614054bb4b16952923759b15a\"></div>\n",
              "<script type=\"text/javascript\">\n",
              "  var VEGA_DEBUG = (typeof VEGA_DEBUG == \"undefined\") ? {} : VEGA_DEBUG;\n",
              "  (function(spec, embedOpt){\n",
              "    let outputDiv = document.currentScript.previousElementSibling;\n",
              "    if (outputDiv.id !== \"altair-viz-84074cc614054bb4b16952923759b15a\") {\n",
              "      outputDiv = document.getElementById(\"altair-viz-84074cc614054bb4b16952923759b15a\");\n",
              "    }\n",
              "\n",
              "    const paths = {\n",
              "      \"vega\": \"https://cdn.jsdelivr.net/npm/vega@5?noext\",\n",
              "      \"vega-lib\": \"https://cdn.jsdelivr.net/npm/vega-lib?noext\",\n",
              "      \"vega-lite\": \"https://cdn.jsdelivr.net/npm/vega-lite@5.20.1?noext\",\n",
              "      \"vega-embed\": \"https://cdn.jsdelivr.net/npm/vega-embed@6?noext\",\n",
              "    };\n",
              "\n",
              "    function maybeLoadScript(lib, version) {\n",
              "      var key = `${lib.replace(\"-\", \"\")}_version`;\n",
              "      return (VEGA_DEBUG[key] == version) ?\n",
              "        Promise.resolve(paths[lib]) :\n",
              "        new Promise(function(resolve, reject) {\n",
              "          var s = document.createElement('script');\n",
              "          document.getElementsByTagName(\"head\")[0].appendChild(s);\n",
              "          s.async = true;\n",
              "          s.onload = () => {\n",
              "            VEGA_DEBUG[key] = version;\n",
              "            return resolve(paths[lib]);\n",
              "          };\n",
              "          s.onerror = () => reject(`Error loading script: ${paths[lib]}`);\n",
              "          s.src = paths[lib];\n",
              "        });\n",
              "    }\n",
              "\n",
              "    function showError(err) {\n",
              "      outputDiv.innerHTML = `<div class=\"error\" style=\"color:red;\">${err}</div>`;\n",
              "      throw err;\n",
              "    }\n",
              "\n",
              "    function displayChart(vegaEmbed) {\n",
              "      vegaEmbed(outputDiv, spec, embedOpt)\n",
              "        .catch(err => showError(`Javascript Error: ${err.message}<br>This usually means there's a typo in your chart specification. See the javascript console for the full traceback.`));\n",
              "    }\n",
              "\n",
              "    if(typeof define === \"function\" && define.amd) {\n",
              "      requirejs.config({paths});\n",
              "      let deps = [\"vega-embed\"];\n",
              "      require(deps, displayChart, err => showError(`Error loading script: ${err.message}`));\n",
              "    } else {\n",
              "      maybeLoadScript(\"vega\", \"5\")\n",
              "        .then(() => maybeLoadScript(\"vega-lite\", \"5.20.1\"))\n",
              "        .then(() => maybeLoadScript(\"vega-embed\", \"6\"))\n",
              "        .catch(showError)\n",
              "        .then(() => displayChart(vegaEmbed));\n",
              "    }\n",
              "  })({\"config\": {\"view\": {\"continuousWidth\": 300, \"continuousHeight\": 300}}, \"data\": {\"name\": \"data-6eb23434a04a966799035c09d6327789\"}, \"mark\": {\"type\": \"bar\"}, \"encoding\": {\"color\": {\"field\": \"Categor\\u00eda\", \"type\": \"nominal\"}, \"column\": {\"field\": \"Categor\\u00eda\", \"type\": \"nominal\"}, \"tooltip\": [{\"field\": \"A\\u00f1o\", \"type\": \"quantitative\"}, {\"field\": \"Categor\\u00eda\", \"type\": \"nominal\"}, {\"aggregate\": \"average\", \"field\": \"Marca\", \"type\": \"quantitative\"}], \"x\": {\"field\": \"A\\u00f1o\", \"title\": \"A\\u00f1o\", \"type\": \"ordinal\"}, \"y\": {\"aggregate\": \"average\", \"field\": \"Marca\", \"title\": \"Marca promedio (segundos)\", \"type\": \"quantitative\"}}, \"title\": \"Promedio de marcas en 800 metros planos por a\\u00f1o y categor\\u00eda\", \"$schema\": \"https://vega.github.io/schema/vega-lite/v5.20.1.json\", \"datasets\": {\"data-6eb23434a04a966799035c09d6327789\": [{\"Categor\\u00eda\": \"Adulto masculino\", \"A\\u00f1o\": 2019, \"Marca\": 113.16}, {\"Categor\\u00eda\": \"Adulto femenino\", \"A\\u00f1o\": 2019, \"Marca\": 130.48}, {\"Categor\\u00eda\": \"Juvenil masculino\", \"A\\u00f1o\": 2019, \"Marca\": 0.0}, {\"Categor\\u00eda\": \"Juvenil femenino\", \"A\\u00f1o\": 2019, \"Marca\": 0.0}, {\"Categor\\u00eda\": \"Adulto masculino\", \"A\\u00f1o\": 2020, \"Marca\": 0.0}, {\"Categor\\u00eda\": \"Adulto femenino\", \"A\\u00f1o\": 2020, \"Marca\": 0.0}, {\"Categor\\u00eda\": \"Juvenil masculino\", \"A\\u00f1o\": 2020, \"Marca\": 0.0}, {\"Categor\\u00eda\": \"Juvenil femenino\", \"A\\u00f1o\": 2020, \"Marca\": 0.0}, {\"Categor\\u00eda\": \"Adulto masculino\", \"A\\u00f1o\": 2021, \"Marca\": 0.0}, {\"Categor\\u00eda\": \"Adulto femenino\", \"A\\u00f1o\": 2021, \"Marca\": 131.7}, {\"Categor\\u00eda\": \"Juvenil masculino\", \"A\\u00f1o\": 2021, \"Marca\": 117.8}, {\"Categor\\u00eda\": \"Juvenil femenino\", \"A\\u00f1o\": 2021, \"Marca\": 0.0}, {\"Categor\\u00eda\": \"Adulto masculino\", \"A\\u00f1o\": 2022, \"Marca\": 0.0}, {\"Categor\\u00eda\": \"Adulto femenino\", \"A\\u00f1o\": 2022, \"Marca\": 0.0}, {\"Categor\\u00eda\": \"Juvenil masculino\", \"A\\u00f1o\": 2022, \"Marca\": 115.2}, {\"Categor\\u00eda\": \"Juvenil femenino\", \"A\\u00f1o\": 2022, \"Marca\": 138.8}, {\"Categor\\u00eda\": \"Adulto masculino\", \"A\\u00f1o\": 2023, \"Marca\": 108.1}, {\"Categor\\u00eda\": \"Adulto femenino\", \"A\\u00f1o\": 2023, \"Marca\": 124.2}, {\"Categor\\u00eda\": \"Juvenil masculino\", \"A\\u00f1o\": 2023, \"Marca\": 0.0}, {\"Categor\\u00eda\": \"Juvenil femenino\", \"A\\u00f1o\": 2023, \"Marca\": 0.0}, {\"Categor\\u00eda\": \"Adulto masculino\", \"A\\u00f1o\": 2024, \"Marca\": 0.0}, {\"Categor\\u00eda\": \"Adulto femenino\", \"A\\u00f1o\": 2024, \"Marca\": 0.0}, {\"Categor\\u00eda\": \"Juvenil masculino\", \"A\\u00f1o\": 2024, \"Marca\": 118.9}, {\"Categor\\u00eda\": \"Juvenil femenino\", \"A\\u00f1o\": 2024, \"Marca\": 137.2}]}}, {\"mode\": \"vega-lite\"});\n",
              "</script>"
            ],
            "text/plain": [
              "alt.Chart(...)"
            ]
          },
          "metadata": {}
        }
      ]
    }
  ]
}